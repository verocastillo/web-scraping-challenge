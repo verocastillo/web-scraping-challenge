{
 "cells": [
  {
   "cell_type": "code",
   "execution_count": 1,
   "id": "relevant-lease",
   "metadata": {},
   "outputs": [],
   "source": [
    "# Import dependencies\n",
    "from bs4 import BeautifulSoup\n",
    "from splinter import Browser\n",
    "from webdriver_manager.chrome import ChromeDriverManager\n",
    "import pandas as pd"
   ]
  },
  {
   "cell_type": "code",
   "execution_count": 2,
   "id": "consecutive-perth",
   "metadata": {},
   "outputs": [
    {
     "name": "stderr",
     "output_type": "stream",
     "text": [
      "\n",
      "\n",
      "====== WebDriver manager ======\n",
      "Current google-chrome version is 91.0.4472\n",
      "Get LATEST driver version for 91.0.4472\n",
      "Driver [/Users/vero1296/.wdm/drivers/chromedriver/mac64/91.0.4472.101/chromedriver] found in cache\n"
     ]
    }
   ],
   "source": [
    "# Setup splinter\n",
    "executable_path = {'executable_path': ChromeDriverManager().install()}\n",
    "browser = Browser('chrome', **executable_path, headless=False)"
   ]
  },
  {
   "cell_type": "markdown",
   "id": "stock-necessity",
   "metadata": {},
   "source": [
    "## NASA Mars News"
   ]
  },
  {
   "cell_type": "code",
   "execution_count": 3,
   "id": "federal-venezuela",
   "metadata": {},
   "outputs": [],
   "source": [
    "# Setup url and browser\n",
    "marsnews_url = 'https://redplanetscience.com'             \n",
    "browser.visit(marsnews_url)"
   ]
  },
  {
   "cell_type": "code",
   "execution_count": 4,
   "id": "certified-architect",
   "metadata": {},
   "outputs": [],
   "source": [
    "# HTML object\n",
    "html = browser.html\n",
    "# Parse HTML with Beautiful Soup\n",
    "soup = BeautifulSoup(html, 'html.parser')"
   ]
  },
  {
   "cell_type": "code",
   "execution_count": 5,
   "id": "vanilla-conservative",
   "metadata": {},
   "outputs": [
    {
     "name": "stdout",
     "output_type": "stream",
     "text": [
      "AI Is Helping Scientists Discover Fresh Craters on Mars\n"
     ]
    }
   ],
   "source": [
    "# Collect latest news title\n",
    "news_title = soup.find_all('div', class_='content_title')\n",
    "first_news_title = news_title[0].text\n",
    "print(first_news_title)"
   ]
  },
  {
   "cell_type": "code",
   "execution_count": 6,
   "id": "conditional-european",
   "metadata": {},
   "outputs": [
    {
     "name": "stdout",
     "output_type": "stream",
     "text": [
      "It's the first time machine learning has been used to find previously unknown craters on the Red Planet.\n"
     ]
    }
   ],
   "source": [
    "# Collect first paragraph text\n",
    "news_text = soup.find_all('div', class_='article_teaser_body')\n",
    "first_news_text = news_text[0].text\n",
    "print(first_news_text)"
   ]
  },
  {
   "cell_type": "markdown",
   "id": "promising-knock",
   "metadata": {},
   "source": [
    "## JPL Mars Space Images - Featured Image"
   ]
  },
  {
   "cell_type": "code",
   "execution_count": 7,
   "id": "hispanic-numbers",
   "metadata": {},
   "outputs": [],
   "source": [
    "# Setup url and browser\n",
    "marspic_url = 'https://spaceimages-mars.com'             \n",
    "browser.visit(marspic_url)"
   ]
  },
  {
   "cell_type": "code",
   "execution_count": 8,
   "id": "different-samba",
   "metadata": {},
   "outputs": [],
   "source": [
    "# HTML object\n",
    "html = browser.html\n",
    "# Parse HTML with Beautiful Soup\n",
    "soup = BeautifulSoup(html, 'html.parser')"
   ]
  },
  {
   "cell_type": "code",
   "execution_count": 9,
   "id": "inner-completion",
   "metadata": {},
   "outputs": [
    {
     "name": "stdout",
     "output_type": "stream",
     "text": [
      "https://spaceimages-mars.com/image/featured/mars2.jpg\n"
     ]
    }
   ],
   "source": [
    "# Collect image\n",
    "ft_image = soup.find_all('img', class_='headerimage fade-in')\n",
    "ft_image_url = ft_image[0]['src']\n",
    "featured_image_url = f\"{marspic_url}/{ft_image_url}\"\n",
    "print(featured_image_url)"
   ]
  },
  {
   "cell_type": "markdown",
   "id": "sorted-revelation",
   "metadata": {},
   "source": [
    "## Mars Facts"
   ]
  },
  {
   "cell_type": "code",
   "execution_count": 10,
   "id": "developed-force",
   "metadata": {},
   "outputs": [],
   "source": [
    "# Setup url and browser\n",
    "marsfacts_url = 'https://galaxyfacts-mars.com'             \n",
    "browser.visit(marsfacts_url)"
   ]
  },
  {
   "cell_type": "code",
   "execution_count": 11,
   "id": "narrow-watch",
   "metadata": {},
   "outputs": [],
   "source": [
    "# HTML object\n",
    "html = browser.html\n",
    "# Parse HTML with Beautiful Soup\n",
    "soup = BeautifulSoup(html, 'html.parser')"
   ]
  },
  {
   "cell_type": "code",
   "execution_count": 15,
   "id": "whole-ceramic",
   "metadata": {},
   "outputs": [
    {
     "data": {
      "text/plain": [
       "[<table class=\"table\">\n",
       " <tbody>\n",
       " <tr>\n",
       " <th scope=\"row\"><b> Mars - Earth Comparison</b></th>\n",
       " <td><span class=\"orange\"><b> Mars</b></span></td>\n",
       " <td><span class=\"purple\"> <b>Earth </b></span> </td>\n",
       " </tr>\n",
       " <tr>\n",
       " <th scope=\"row\">Diameter:</th>\n",
       " <td><span class=\"orange\">6,779 km</span></td>\n",
       " <td><span class=\"purple\">12,742 km</span> </td>\n",
       " </tr>\n",
       " <tr>\n",
       " <th scope=\"row\">Mass:</th>\n",
       " <td><span class=\"orange\">6.39 × 10^23 kg </span></td>\n",
       " <td><span class=\"purple\">5.97 × 10^24 kg</span> </td>\n",
       " </tr>\n",
       " <tr>\n",
       " <th scope=\"row\">Moons:</th>\n",
       " <td><span class=\"orange\">2</span></td>\n",
       " <td><span class=\"purple\">1</span> </td>\n",
       " </tr>\n",
       " <tr>\n",
       " <th scope=\"row\">Distance from Sun:</th>\n",
       " <td><span class=\"orange\">227,943,824 km</span></td>\n",
       " <td><span class=\"purple\">149,598,262 km</span> </td>\n",
       " </tr>\n",
       " <tr>\n",
       " <th scope=\"row\">Length of Year:</th>\n",
       " <td><span class=\"orange\">687 Earth days</span></td>\n",
       " <td><span class=\"purple\">365.24 days</span> </td>\n",
       " </tr>\n",
       " <tr>\n",
       " <th scope=\"row\">Temperature:</th>\n",
       " <td><span class=\"orange\">-87 to -5 °C</span></td>\n",
       " <td><span class=\"purple\">\t-88 to 58°C</span> </td>\n",
       " </tr>\n",
       " </tbody>\n",
       " </table>,\n",
       " <table class=\"table table-striped\">\n",
       " <tbody>\n",
       " <tr>\n",
       " <th scope=\"row\">Equatorial Diameter:</th>\n",
       " <td>6,792 km</td>\n",
       " </tr>\n",
       " <tr>\n",
       " <th scope=\"row\">Polar Diameter:</th>\n",
       " <td>6,752 km</td>\n",
       " </tr>\n",
       " <tr>\n",
       " <th scope=\"row\">Mass:</th>\n",
       " <td>\t6.39 × 10^23 kg (0.11 Earths)</td>\n",
       " </tr>\n",
       " <tr>\n",
       " <th scope=\"row\">Moons:</th>\n",
       " <td>\t2 ( <span class=\"red\">Phobos </span> &amp; <span class=\"red\"> Deimos </span>)</td>\n",
       " </tr>\n",
       " <tr>\n",
       " <th scope=\"row\">Orbit Distance:</th>\n",
       " <td>\t227,943,824 km (1.38 AU)</td>\n",
       " </tr>\n",
       " <tr>\n",
       " <th scope=\"row\">Orbit Period:</th>\n",
       " <td>\t687 days (1.9 years)</td>\n",
       " </tr>\n",
       " <tr>\n",
       " <th scope=\"row\">Surface Temperature:</th>\n",
       " <td>\t-87 to -5 °C</td>\n",
       " </tr>\n",
       " <tr>\n",
       " <th scope=\"row\">First Record:</th>\n",
       " <td>\t2nd millennium BC</td>\n",
       " </tr>\n",
       " <tr>\n",
       " <th scope=\"row\">Recorded By:</th>\n",
       " <td>\tEgyptian astronomers</td>\n",
       " </tr>\n",
       " </tbody>\n",
       " </table>]"
      ]
     },
     "execution_count": 15,
     "metadata": {},
     "output_type": "execute_result"
    }
   ],
   "source": [
    "# Get table as html\n",
    "table_mars = soup.find_all('table', class_='table')\n",
    "table_mars"
   ]
  },
  {
   "cell_type": "code",
   "execution_count": null,
   "id": "fewer-recorder",
   "metadata": {},
   "outputs": [],
   "source": []
  }
 ],
 "metadata": {
  "kernelspec": {
   "display_name": "Python [conda env:mypython1] *",
   "language": "python",
   "name": "conda-env-mypython1-py"
  },
  "language_info": {
   "codemirror_mode": {
    "name": "ipython",
    "version": 3
   },
   "file_extension": ".py",
   "mimetype": "text/x-python",
   "name": "python",
   "nbconvert_exporter": "python",
   "pygments_lexer": "ipython3",
   "version": "3.6.10"
  }
 },
 "nbformat": 4,
 "nbformat_minor": 5
}
